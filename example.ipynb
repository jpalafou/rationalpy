{
 "cells": [
  {
   "cell_type": "code",
   "execution_count": 1,
   "metadata": {},
   "outputs": [],
   "source": [
    "from rationalpy import RationalArray"
   ]
  },
  {
   "cell_type": "code",
   "execution_count": 2,
   "metadata": {},
   "outputs": [
    {
     "name": "stdout",
     "output_type": "stream",
     "text": [
      "[0/1 1/2 2/3 3/4 4/5]\n"
     ]
    }
   ],
   "source": [
    "rarr = RationalArray([0, 1, 2, 3, 4], [1, 2, 3, 4, 5])\n",
    "\n",
    "print(rarr)"
   ]
  }
 ],
 "metadata": {
  "kernelspec": {
   "display_name": "rationalpy",
   "language": "python",
   "name": "python3"
  },
  "language_info": {
   "codemirror_mode": {
    "name": "ipython",
    "version": 3
   },
   "file_extension": ".py",
   "mimetype": "text/x-python",
   "name": "python",
   "nbconvert_exporter": "python",
   "pygments_lexer": "ipython3",
   "version": "3.12.7"
  }
 },
 "nbformat": 4,
 "nbformat_minor": 2
}
